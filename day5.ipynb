{
 "cells": [
  {
   "cell_type": "markdown",
   "metadata": {},
   "source": [
    "Part 1"
   ]
  },
  {
   "cell_type": "code",
   "execution_count": 1,
   "metadata": {},
   "outputs": [
    {
     "data": {
      "text/plain": [
       "6260"
      ]
     },
     "execution_count": 1,
     "metadata": {},
     "output_type": "execute_result"
    }
   ],
   "source": [
    "with open(\"input5.txt\") as file:\n",
    "    input = file.read()\n",
    "\n",
    "rules, prints = input.split('\\n\\n')\n",
    "rules = rules.split()\n",
    "prints = prints.split()\n",
    "\n",
    "rules = [r.split('|') for r in rules]\n",
    "prints = [p.split(',') for p in prints]\n",
    "\n",
    "rule_dict = dict()\n",
    "for i in range(len(rules)):\n",
    "    if rules[i][0] not in rule_dict:\n",
    "        rule_dict[rules[i][0]] = []\n",
    "    rule_dict[rules[i][0]].append(rules[i][1])\n",
    "\n",
    "out = 0\n",
    "\n",
    "for update in prints:\n",
    "    processed = []\n",
    "    for u in update:\n",
    "        common = set(processed).intersection(set(rule_dict[u]))\n",
    "        if len(common) == 0:\n",
    "            processed.append(u)\n",
    "        else:\n",
    "            break\n",
    "    if processed == update:\n",
    "        out += int(update[len(update)//2])\n",
    "\n",
    "out"
   ]
  },
  {
   "cell_type": "markdown",
   "metadata": {},
   "source": [
    "Part 2"
   ]
  },
  {
   "cell_type": "code",
   "execution_count": 2,
   "metadata": {},
   "outputs": [
    {
     "data": {
      "text/plain": [
       "5346"
      ]
     },
     "execution_count": 2,
     "metadata": {},
     "output_type": "execute_result"
    }
   ],
   "source": [
    "out = 0\n",
    "\n",
    "for update in prints:\n",
    "    processed = []\n",
    "    for u in update:\n",
    "        common = set(processed).intersection(set(rule_dict[u]))\n",
    "        if len(common) == 0:\n",
    "            processed.append(u)\n",
    "        else:\n",
    "            inds = [processed.index(c) for c in common]\n",
    "            processed.insert(min(inds), u)\n",
    "\n",
    "    if processed != update:\n",
    "        out += int(processed[len(processed)//2])\n",
    "\n",
    "out"
   ]
  },
  {
   "cell_type": "code",
   "execution_count": null,
   "metadata": {},
   "outputs": [],
   "source": []
  }
 ],
 "metadata": {
  "kernelspec": {
   "display_name": "Python 3",
   "language": "python",
   "name": "python3"
  },
  "language_info": {
   "codemirror_mode": {
    "name": "ipython",
    "version": 3
   },
   "file_extension": ".py",
   "mimetype": "text/x-python",
   "name": "python",
   "nbconvert_exporter": "python",
   "pygments_lexer": "ipython3",
   "version": "3.10.2"
  }
 },
 "nbformat": 4,
 "nbformat_minor": 2
}
