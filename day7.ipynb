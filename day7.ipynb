{
 "cells": [
  {
   "cell_type": "markdown",
   "metadata": {},
   "source": [
    "Part 1"
   ]
  },
  {
   "cell_type": "code",
   "execution_count": 1,
   "metadata": {},
   "outputs": [
    {
     "data": {
      "text/plain": [
       "267566105056"
      ]
     },
     "execution_count": 1,
     "metadata": {},
     "output_type": "execute_result"
    }
   ],
   "source": [
    "with open('input7.txt') as file:\n",
    "    input = [line.strip().split(': ') for line in file.readlines()]\n",
    "\n",
    "out = 0\n",
    "\n",
    "for tot, nums in input:\n",
    "    tot = int(tot)\n",
    "    nums = [int(num) for num in nums.split()]\n",
    "\n",
    "    x = len(nums) - 1\n",
    "\n",
    "    for i in range(2**x):\n",
    "        s = nums[0]\n",
    "        bin_str = f\"{i:0{x}b}\"\n",
    "\n",
    "        for j in range(x):\n",
    "            if bin_str[j] == '0':\n",
    "                s += nums[j+1]\n",
    "            else:\n",
    "                s *= nums[j+1]\n",
    "\n",
    "        if (s == tot):\n",
    "            out += tot\n",
    "            break\n",
    "out"
   ]
  },
  {
   "cell_type": "markdown",
   "metadata": {},
   "source": [
    "Part 2"
   ]
  },
  {
   "cell_type": "code",
   "execution_count": 2,
   "metadata": {},
   "outputs": [],
   "source": [
    "def ternary(n):\n",
    "    if n == 0:\n",
    "        return '0'\n",
    "    ns = []\n",
    "    while n:\n",
    "        n, r = divmod(n, 3)\n",
    "        ns.append(str(r))\n",
    "    return ''.join(reversed(ns))"
   ]
  },
  {
   "cell_type": "code",
   "execution_count": 3,
   "metadata": {},
   "outputs": [
    {
     "data": {
      "text/plain": [
       "116094961956019"
      ]
     },
     "execution_count": 3,
     "metadata": {},
     "output_type": "execute_result"
    }
   ],
   "source": [
    "out = 0\n",
    "\n",
    "for tot, nums in input:\n",
    "    tot = int(tot)\n",
    "    nums = nums.split()\n",
    "\n",
    "    x = len(nums) - 1\n",
    "\n",
    "    add = False\n",
    "\n",
    "    for i in range(3**x):\n",
    "        s = int(nums[0])\n",
    "        ops = int(ternary(i))\n",
    "        ops = f\"{ops:0{x}d}\"\n",
    "\n",
    "        for j in range(x):\n",
    "            if ops[j] == '0':\n",
    "                s += int(nums[j+1])\n",
    "            elif ops[j] == '1':\n",
    "                s *= int(nums[j+1])\n",
    "            else:\n",
    "                s = int(str(s) + nums[j+1])\n",
    "\n",
    "            if s > tot:\n",
    "                break\n",
    "\n",
    "        if (s == tot):\n",
    "            out += tot\n",
    "            break\n",
    "out"
   ]
  },
  {
   "cell_type": "code",
   "execution_count": null,
   "metadata": {},
   "outputs": [],
   "source": []
  }
 ],
 "metadata": {
  "kernelspec": {
   "display_name": "Python 3",
   "language": "python",
   "name": "python3"
  },
  "language_info": {
   "codemirror_mode": {
    "name": "ipython",
    "version": 3
   },
   "file_extension": ".py",
   "mimetype": "text/x-python",
   "name": "python",
   "nbconvert_exporter": "python",
   "pygments_lexer": "ipython3",
   "version": "3.10.2"
  }
 },
 "nbformat": 4,
 "nbformat_minor": 2
}
