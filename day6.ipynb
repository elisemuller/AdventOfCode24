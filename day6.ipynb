{
 "cells": [
  {
   "cell_type": "markdown",
   "metadata": {},
   "source": [
    "Part 1"
   ]
  },
  {
   "cell_type": "code",
   "execution_count": 1,
   "metadata": {},
   "outputs": [
    {
     "data": {
      "text/plain": [
       "4977"
      ]
     },
     "execution_count": 1,
     "metadata": {},
     "output_type": "execute_result"
    }
   ],
   "source": [
    "input = []\n",
    "with open('input6.txt') as file:\n",
    "    for line in file.readlines():\n",
    "        l = []\n",
    "        for ch in line.strip():\n",
    "            l.append(ch)\n",
    "        input.append(l)\n",
    "\n",
    "x0, y0 = -1, -1\n",
    "ym = len(input) - 1\n",
    "xm = len(input[0]) - 1\n",
    "for y in range(ym + 1):\n",
    "    for x in range(xm + 1):\n",
    "        if input[y][x] == '^':\n",
    "            x0, y0 = x, y\n",
    "            break\n",
    "\n",
    "dir = 0\n",
    "xi, yi = x0, y0\n",
    "pos = [[xi, yi]]\n",
    "\n",
    "while True:\n",
    "    match dir:\n",
    "        case 0:\n",
    "            if input[yi-1][xi] != '#':\n",
    "                yi = yi - 1\n",
    "            else:\n",
    "                dir = 1\n",
    "        case 1:\n",
    "            if input[yi][xi+1] != '#':\n",
    "                xi = xi + 1\n",
    "            else:\n",
    "                dir = 2\n",
    "        case 2:\n",
    "            if input[yi+1][xi] != '#':\n",
    "                yi = yi + 1\n",
    "            else:\n",
    "                dir = 3\n",
    "        case 3:\n",
    "            if input[yi][xi-1] != '#':\n",
    "                xi = xi - 1\n",
    "            else:\n",
    "                dir = 0\n",
    "\n",
    "    if [xi, yi] not in pos:\n",
    "        pos.append([xi, yi])\n",
    "\n",
    "    if (yi == 0) or (yi == ym) or (xi == 0) or (xi == xm):\n",
    "        break\n",
    "\n",
    "len(pos)"
   ]
  },
  {
   "cell_type": "markdown",
   "metadata": {},
   "source": [
    "Part 2"
   ]
  },
  {
   "cell_type": "code",
   "execution_count": 2,
   "metadata": {},
   "outputs": [
    {
     "data": {
      "image/png": "[encoded data removed]",
      "text/plain": [
       "<Figure size 432x288 with 1 Axes>"
      ]
     },
     "metadata": {
      "needs_background": "light"
     },
     "output_type": "display_data"
    }
   ],
   "source": [
    "import matplotlib.pyplot as plt\n",
    "\n",
    "dir = 0\n",
    "xi, yi = x0, y0\n",
    "pos_plt = [[xi, yi]]\n",
    "\n",
    "while True:\n",
    "    match dir:\n",
    "        case 0:\n",
    "            if input[yi-1][xi] != '#':\n",
    "                yi = yi - 1\n",
    "            else:\n",
    "                dir = 1\n",
    "        case 1:\n",
    "            if input[yi][xi+1] != '#':\n",
    "                xi = xi + 1\n",
    "            else:\n",
    "                dir = 2\n",
    "        case 2:\n",
    "            if input[yi+1][xi] != '#':\n",
    "                yi = yi + 1\n",
    "            else:\n",
    "                dir = 3\n",
    "        case 3:\n",
    "            if input[yi][xi-1] != '#':\n",
    "                xi = xi - 1\n",
    "            else:\n",
    "                dir = 0\n",
    "\n",
    "    pos_plt.append([xi, yi])\n",
    "\n",
    "    if (yi == 0) or (yi == ym) or (xi == 0) or (xi == xm):\n",
    "        break\n",
    "\n",
    "xs = [p[0] for p in pos_plt]\n",
    "ys = [p[1] for p in pos_plt]\n",
    "plt.plot(xs, [ym + 1 - y for y in ys])\n",
    "plt.show()"
   ]
  },
  {
   "cell_type": "code",
   "execution_count": 3,
   "metadata": {},
   "outputs": [
    {
     "data": {
      "text/plain": [
       "1729"
      ]
     },
     "execution_count": 3,
     "metadata": {},
     "output_type": "execute_result"
    }
   ],
   "source": [
    "out = 0\n",
    "\n",
    "for p in pos[1:]:\n",
    "    #tmp = copy.deepcopy(input)\n",
    "    og = input[p[1]][p[0]]\n",
    "    input[p[1]][p[0]] = '#'\n",
    "\n",
    "    dir = 0\n",
    "    xi, yi = x0, y0         # 72, 52\n",
    "    trajectory = [[xi, yi]]\n",
    "    stuck = 0\n",
    "\n",
    "    while True:\n",
    "        match dir:\n",
    "            case 0:\n",
    "                if input[yi-1][xi] != '#':\n",
    "                    yi = yi - 1\n",
    "                else:\n",
    "                    dir = 1\n",
    "            case 1:\n",
    "                if input[yi][xi+1] != '#':\n",
    "                    xi = xi + 1\n",
    "                else:\n",
    "                    dir = 2\n",
    "            case 2:\n",
    "                if input[yi+1][xi] != '#':\n",
    "                    yi = yi + 1\n",
    "                else:\n",
    "                    dir = 3\n",
    "            case 3:\n",
    "                if input[yi][xi-1] != '#':\n",
    "                    xi = xi - 1\n",
    "                else:\n",
    "                    dir = 0\n",
    "\n",
    "        if [xi, yi] not in trajectory:\n",
    "            trajectory.append([xi, yi])\n",
    "            stuck = 0\n",
    "        else:\n",
    "            stuck += 1\n",
    "\n",
    "        if stuck > (xm+1)*(ym+1)*5:\n",
    "            out += 1\n",
    "            break\n",
    "\n",
    "        if (yi == 0) or (yi == ym) or (xi == 0) or (xi == xm):\n",
    "            break\n",
    "\n",
    "    input[p[1]][p[0]] = og\n",
    "\n",
    "out"
   ]
  },
  {
   "cell_type": "code",
   "execution_count": null,
   "metadata": {},
   "outputs": [],
   "source": []
  }
 ],
 "metadata": {
  "kernelspec": {
   "display_name": "Python 3",
   "language": "python",
   "name": "python3"
  },
  "language_info": {
   "codemirror_mode": {
    "name": "ipython",
    "version": 3
   },
   "file_extension": ".py",
   "mimetype": "text/x-python",
   "name": "python",
   "nbconvert_exporter": "python",
   "pygments_lexer": "ipython3",
   "version": "3.10.2"
  }
 },
 "nbformat": 4,
 "nbformat_minor": 2
}
