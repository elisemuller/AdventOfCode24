{
 "cells": [
  {
   "cell_type": "markdown",
   "metadata": {},
   "source": [
    "Part 1"
   ]
  },
  {
   "cell_type": "code",
   "execution_count": null,
   "metadata": {},
   "outputs": [],
   "source": [
    "input = []\n",
    "\n",
    "with open('input10.txt') as file:\n",
    "    for line in file.readlines():\n",
    "        l = [int(ch) for ch in line.strip()]\n",
    "        input.append(l)\n",
    "\n",
    "y_max = len(input) - 1\n",
    "x_max = len(input[0]) - 1\n",
    "\n",
    "zs = [[x,y] for y in range(y_max+1) for x in range(x_max+1) if not input[y][x]]"
   ]
  },
  {
   "cell_type": "code",
   "execution_count": null,
   "metadata": {},
   "outputs": [],
   "source": [
    "def dfs(x, y, grid, visited, ns):\n",
    "    visited[y][x] = True\n",
    "\n",
    "    if grid[y][x] == 9:\n",
    "        ns.append([x, y])\n",
    "\n",
    "    for v in [[x-1, y], [x, y-1], [x+1, y], [x, y+1]]:\n",
    "        if v[0] >= 0 and v[1] >= 0 and v[0] < len(grid[0]) and v[1] < len(grid):\n",
    "            if not visited[v[1]][v[0]] and (grid[v[1]][v[0]] - grid[y][x] == 1):\n",
    "                visited, ns = dfs(v[0], v[1], grid, visited, ns)\n",
    "\n",
    "    return visited, ns"
   ]
  },
  {
   "cell_type": "code",
   "execution_count": null,
   "metadata": {},
   "outputs": [],
   "source": [
    "out = 0\n",
    "\n",
    "for z in zs:\n",
    "    x_b, x_e = max(0, z[0] - 9), min(x_max, z[0] + 9) + 1\n",
    "    y_b, y_e = max(0, z[1] - 9), min(y_max, z[1] + 9) + 1\n",
    "    grid = [row[x_b:x_e] for row in input[y_b:y_e]]\n",
    "    visited = [[False] * len(grid[0]) for _ in range(len(grid))]\n",
    "    ns = []\n",
    "\n",
    "    x0, y0 = z[0] - x_b, z[1] - y_b\n",
    "\n",
    "    visited, ns = dfs(x0, y0, grid, visited, ns)\n",
    "\n",
    "    score = len(ns)\n",
    "    out += score\n",
    "\n",
    "out"
   ]
  },
  {
   "cell_type": "markdown",
   "metadata": {},
   "source": [
    "Part 2"
   ]
  },
  {
   "cell_type": "markdown",
   "metadata": {},
   "source": [
    "def dfs(x, y, grid, ns):\n",
    "\n",
    "    if grid[y][x] == 9:\n",
    "        ns.append([x, y])\n",
    "\n",
    "    for v in [[x-1, y], [x, y-1], [x+1, y], [x, y+1]]:\n",
    "        if v[0] >= 0 and v[1] >= 0 and v[0] < len(grid[0]) and v[1] < len(grid):\n",
    "            if (grid[v[1]][v[0]] - grid[y][x] == 1):\n",
    "                ns = dfs(v[0], v[1], grid, ns)\n",
    "    \n",
    "    return ns"
   ]
  },
  {
   "cell_type": "code",
   "execution_count": null,
   "metadata": {},
   "outputs": [],
   "source": [
    "out = 0\n",
    "\n",
    "for z in zs:\n",
    "    x_b, x_e = max(0, z[0] - 9), min(x_max, z[0] + 9) + 1\n",
    "    y_b, y_e = max(0, z[1] - 9), min(y_max, z[1] + 9) + 1\n",
    "    grid = [row[x_b:x_e] for row in input[y_b:y_e]]\n",
    "    ns = []\n",
    "\n",
    "    x0, y0 = z[0] - x_b, z[1] - y_b\n",
    "\n",
    "    ns = dfs(x0, y0, grid, ns)\n",
    "\n",
    "    score = len(ns)\n",
    "    out += score\n",
    "\n",
    "out"
   ]
  }
 ],
 "metadata": {
  "language_info": {
   "name": "python"
  }
 },
 "nbformat": 4,
 "nbformat_minor": 2
}
