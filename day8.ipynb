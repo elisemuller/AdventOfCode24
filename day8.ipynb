{
 "cells": [
  {
   "cell_type": "markdown",
   "metadata": {},
   "source": [
    "Part 1"
   ]
  },
  {
   "cell_type": "code",
   "execution_count": null,
   "metadata": {},
   "outputs": [],
   "source": [
    "with open('input8.txt') as file:\n",
    "    input = []\n",
    "    for line in file.readlines():\n",
    "        l = [ch for ch in line.strip()]\n",
    "        input.append(l)\n",
    "\n",
    "y_max = len(input) - 1\n",
    "x_max = len(input[0]) - 1\n",
    "\n",
    "symbols = {}\n",
    "for y in range(y_max+1):\n",
    "    for x in range(x_max+1):\n",
    "        if input[y][x] != '.':\n",
    "            if input[y][x] not in symbols:\n",
    "                symbols[input[y][x]] = []\n",
    "            symbols[input[y][x]].append([x,y])\n",
    "\n",
    "print(symbols)"
   ]
  },
  {
   "cell_type": "code",
   "execution_count": null,
   "metadata": {},
   "outputs": [],
   "source": [
    "def diff(p1, p2):\n",
    "    dx = p2[0] - p1[0]\n",
    "    dy = p2[1] - p1[1]\n",
    "    return [dx, dy]"
   ]
  },
  {
   "cell_type": "code",
   "execution_count": null,
   "metadata": {},
   "outputs": [],
   "source": [
    "antinodes = []\n",
    "\n",
    "for key, vals in zip(symbols.keys(), symbols.values()):\n",
    "    for i in range(len(vals)-1):\n",
    "        for p2 in vals[i+1:]:\n",
    "            p1 = vals[i]\n",
    "            d = diff(p1, p2)\n",
    "            ans = [[p1[0]-d[0], p1[1]-d[1]], [p2[0]+d[0], p2[1]+d[1]]]\n",
    "            for a in ans:\n",
    "                if a[0] >= 0 and a[0] <= x_max and a[1] >= 0 and a[1] <= y_max and a not in antinodes:\n",
    "                    antinodes.append(a)\n",
    "\n",
    "len(antinodes)"
   ]
  },
  {
   "cell_type": "markdown",
   "metadata": {},
   "source": [
    "Part 2"
   ]
  },
  {
   "cell_type": "code",
   "execution_count": null,
   "metadata": {},
   "outputs": [],
   "source": [
    "def dir(d):\n",
    "    for i in range(2, max(d)):\n",
    "        if d[0]%i == 0 and d[1]%i == 0:\n",
    "            print(\"divisable\")\n",
    "            d = dir([d[0]%i, d[1]%i])\n",
    "    return d"
   ]
  },
  {
   "cell_type": "code",
   "execution_count": null,
   "metadata": {},
   "outputs": [],
   "source": [
    "antinodes = []\n",
    "\n",
    "for key, vals in zip(symbols.keys(), symbols.values()):\n",
    "    for i in range(len(vals)-1):\n",
    "        for p2 in vals[i+1:]:\n",
    "            d = diff(vals[i], p2)\n",
    "            a0, a1 = vals[i]\n",
    "\n",
    "            while True:\n",
    "                if (a0 < 0 or a0 > x_max or a1 < 0 or a1 > y_max):\n",
    "                    break\n",
    "                if [a0, a1] not in antinodes:\n",
    "                    antinodes.append([a0, a1])\n",
    "                a0 -= d[0]\n",
    "                a1 -= d[1]\n",
    "\n",
    "            a0, a1 = vals[i]\n",
    "\n",
    "            while True:\n",
    "                if (a0 < 0 or a0 > x_max or a1 < 0 or a1 > y_max):\n",
    "                    break\n",
    "                if [a0, a1] not in antinodes:\n",
    "                    antinodes.append([a0, a1])\n",
    "                a0 += d[0]\n",
    "                a1 += d[1]\n",
    "\n",
    "\n",
    "len(antinodes)"
   ]
  }
 ],
 "metadata": {
  "language_info": {
   "name": "python"
  }
 },
 "nbformat": 4,
 "nbformat_minor": 2
}
