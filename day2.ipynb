{
 "cells": [
  {
   "cell_type": "markdown",
   "metadata": {},
   "source": [
    "Part 1"
   ]
  },
  {
   "cell_type": "code",
   "execution_count": 1,
   "metadata": {},
   "outputs": [
    {
     "data": {
      "text/plain": [
       "402"
      ]
     },
     "execution_count": 1,
     "metadata": {},
     "output_type": "execute_result"
    }
   ],
   "source": [
    "with open('input2.txt') as file:\n",
    "    input = [line.split() for line in file]\n",
    "\n",
    "out = 0\n",
    "\n",
    "for report in input:\n",
    "    compare = [int(n2)-int(n1) for n1, n2 in zip(report, report[1:])]\n",
    "    inc = all(i >= 1 and i <= 3 for i in compare)\n",
    "    dec = all(i <= -1 and i >= -3 for i in compare)\n",
    "\n",
    "    if inc or dec:\n",
    "        out += 1\n",
    "\n",
    "out"
   ]
  },
  {
   "cell_type": "code",
   "execution_count": 2,
   "metadata": {},
   "outputs": [
    {
     "data": {
      "text/plain": [
       "402"
      ]
     },
     "execution_count": 2,
     "metadata": {},
     "output_type": "execute_result"
    }
   ],
   "source": [
    "out = 0\n",
    "\n",
    "for report in input:\n",
    "    compare = [int(n2)-int(n1) for n1, n2 in zip(report, report[1:])]\n",
    "    inc = [i >= 1 and i <= 3 for i in compare].count(True)\n",
    "    dec = [i <= -1 and i >= -3 for i in compare].count(True)\n",
    "\n",
    "    if ((inc == len(compare)) or (dec == len(compare))):\n",
    "        out += 1\n",
    "\n",
    "out"
   ]
  },
  {
   "cell_type": "markdown",
   "metadata": {},
   "source": [
    "Part 2"
   ]
  },
  {
   "cell_type": "code",
   "execution_count": 4,
   "metadata": {},
   "outputs": [
    {
     "data": {
      "text/plain": [
       "455"
      ]
     },
     "execution_count": 4,
     "metadata": {},
     "output_type": "execute_result"
    }
   ],
   "source": [
    "out = 0\n",
    "\n",
    "for report in input:\n",
    "    compare = [int(n2)-int(n1) for n1, n2 in zip(report, report[1:])]\n",
    "    inc = [i >= 1 and i <= 3 for i in compare].count(True)\n",
    "    dec = [i <= -1 and i >= -3 for i in compare].count(True)\n",
    "\n",
    "    l = len(compare)\n",
    "\n",
    "    if ((inc == l) or (dec == l)):\n",
    "        out += 1\n",
    "\n",
    "    elif ((inc == l-1) or (inc == l-2) or (dec == l-1) or (dec == l-2)):\n",
    "        for i in range(len(report)):\n",
    "            t = [x for j,x in enumerate(report) if j!=i]\n",
    "            compare = [int(n2)-int(n1) for n1, n2 in zip(t, t[1:])]\n",
    "            inc = [i >= 1 and i <= 3 for i in compare].count(True)\n",
    "            dec = [i <= -1 and i >= -3 for i in compare].count(True)\n",
    "\n",
    "            if ((inc == len(compare)) or (dec == len(compare))):\n",
    "                out += 1\n",
    "                break\n",
    "\n",
    "out"
   ]
  },
  {
   "cell_type": "code",
   "execution_count": null,
   "metadata": {},
   "outputs": [],
   "source": []
  }
 ],
 "metadata": {
  "kernelspec": {
   "display_name": "Python 3",
   "language": "python",
   "name": "python3"
  },
  "language_info": {
   "codemirror_mode": {
    "name": "ipython",
    "version": 3
   },
   "file_extension": ".py",
   "mimetype": "text/x-python",
   "name": "python",
   "nbconvert_exporter": "python",
   "pygments_lexer": "ipython3",
   "version": "3.10.2"
  }
 },
 "nbformat": 4,
 "nbformat_minor": 2
}
