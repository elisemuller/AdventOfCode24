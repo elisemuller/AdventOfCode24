{
 "cells": [
  {
   "cell_type": "markdown",
   "metadata": {},
   "source": [
    "Part 1"
   ]
  },
  {
   "cell_type": "code",
   "execution_count": null,
   "metadata": {},
   "outputs": [],
   "source": [
    "with open('input9.txt') as file:\n",
    "    input = file.read()\n",
    "\n",
    "if len(input)%2 != 0:\n",
    "    input += '0'\n",
    "\n",
    "data = []\n",
    "file_id = 0\n",
    "\n",
    "for f, s in zip(input[::2], input[1::2]):\n",
    "    data += [file_id for i in range(int(f))]\n",
    "    data += ['.' for i in range(int(s))]\n",
    "    file_id += 1\n",
    "\n",
    "print(data[:100])\n",
    "print(data[-100:])"
   ]
  },
  {
   "cell_type": "code",
   "execution_count": null,
   "metadata": {},
   "outputs": [],
   "source": [
    "f = 0\n",
    "b = len(data) - 1\n",
    "\n",
    "out = 0\n",
    "\n",
    "while f < b:\n",
    "    if data[f] == '.':\n",
    "        if data[b] != '.':\n",
    "            data[f], data[b] = data[b], data[f]\n",
    "        else:\n",
    "            b -= 1\n",
    "    else:\n",
    "        out += f*data[f]\n",
    "        f += 1\n",
    "\n",
    "out"
   ]
  },
  {
   "cell_type": "markdown",
   "metadata": {},
   "source": [
    "Part 2"
   ]
  },
  {
   "cell_type": "code",
   "execution_count": null,
   "metadata": {},
   "outputs": [],
   "source": [
    "with open('input9.txt') as file:\n",
    "    input = file.read()\n",
    "\n",
    "if len(input)%2 != 0:\n",
    "    input += '0'\n",
    "\n",
    "data = []\n",
    "file_id = 0\n",
    "\n",
    "for f, s in zip(input[::2], input[1::2]):\n",
    "    data += [file_id for i in range(int(f))]\n",
    "    data += ['.' for i in range(int(s))]\n",
    "    file_id += 1\n",
    "\n",
    "mem = list(input)\n",
    "\n",
    "back = len(data) - 1\n",
    "\n",
    "for f in range(len(input)-1, 0, -2):\n",
    "    back -= int(input[f])\n",
    "    file_len = int(input[f-1])\n",
    "    front = 0\n",
    "    for s in range(0, len(mem)-1, 2):\n",
    "        front += int(mem[s])\n",
    "        space_len = int(mem[s+1])\n",
    "\n",
    "        if front >= back:\n",
    "            break\n",
    "\n",
    "        r = space_len - file_len\n",
    "        if (r >= 0):\n",
    "            for i in range(file_len):\n",
    "                data[front+i], data[back-i] = data[back-i], data[front+i]\n",
    "            mem[s+1] = str(r)\n",
    "            mem.insert(s+1, str(0))\n",
    "            mem.insert(s+2, str(file_len))\n",
    "            break\n",
    "\n",
    "        front += int(mem[s+1])\n",
    "    back -= int(input[f-1])\n",
    "\n",
    "print(data[:20])\n",
    "print(mem[:30])"
   ]
  },
  {
   "cell_type": "code",
   "execution_count": null,
   "metadata": {},
   "outputs": [],
   "source": [
    "out = 0\n",
    "\n",
    "for i in range(len(data)):\n",
    "    if data[i] != '.':\n",
    "        out += i*int(data[i])\n",
    "\n",
    "out"
   ]
  }
 ],
 "metadata": {
  "language_info": {
   "name": "python"
  }
 },
 "nbformat": 4,
 "nbformat_minor": 2
}
