{
 "cells": [
  {
   "cell_type": "markdown",
   "metadata": {},
   "source": [
    "Part 1"
   ]
  },
  {
   "cell_type": "code",
   "execution_count": 1,
   "metadata": {},
   "outputs": [
    {
     "data": {
      "text/plain": [
       "167090022"
      ]
     },
     "execution_count": 1,
     "metadata": {},
     "output_type": "execute_result"
    }
   ],
   "source": [
    "import re\n",
    "\n",
    "with open('input3.txt') as file:\n",
    "    input = file.read()\n",
    "\n",
    "out = 0\n",
    "\n",
    "matches = re.findall(r\"mul\\((\\d+),(\\d+)\\)\", input)\n",
    "for m in matches:\n",
    "    out += int(m[0])*int(m[1])\n",
    "\n",
    "out"
   ]
  },
  {
   "cell_type": "markdown",
   "metadata": {},
   "source": [
    "Part 2"
   ]
  },
  {
   "cell_type": "code",
   "execution_count": 2,
   "metadata": {},
   "outputs": [
    {
     "data": {
      "text/plain": [
       "89823704"
      ]
     },
     "execution_count": 2,
     "metadata": {},
     "output_type": "execute_result"
    }
   ],
   "source": [
    "out = 0\n",
    "mul = 1\n",
    "\n",
    "p1 = re.compile(r\"(don't\\(\\))|(do\\(\\))|(mul\\((\\d+),(\\d+)\\))\")\n",
    "matches = [[m.start(), m.groups()] for m in p1.finditer(input)]\n",
    "\n",
    "for m in matches:\n",
    "    if m[1][0] == r\"don't()\":\n",
    "        mul = 0\n",
    "    elif m[1][1] == r\"do()\":\n",
    "        mul = 1\n",
    "    else:\n",
    "        out += mul*int(m[1][3])*int(m[1][4])\n",
    "\n",
    "out"
   ]
  },
  {
   "cell_type": "code",
   "execution_count": null,
   "metadata": {},
   "outputs": [],
   "source": []
  }
 ],
 "metadata": {
  "kernelspec": {
   "display_name": "Python 3",
   "language": "python",
   "name": "python3"
  },
  "language_info": {
   "codemirror_mode": {
    "name": "ipython",
    "version": 3
   },
   "file_extension": ".py",
   "mimetype": "text/x-python",
   "name": "python",
   "nbconvert_exporter": "python",
   "pygments_lexer": "ipython3",
   "version": "3.10.2"
  }
 },
 "nbformat": 4,
 "nbformat_minor": 2
}
