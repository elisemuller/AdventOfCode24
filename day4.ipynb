{
 "cells": [
  {
   "cell_type": "markdown",
   "metadata": {},
   "source": [
    "Part 1"
   ]
  },
  {
   "cell_type": "code",
   "execution_count": 1,
   "metadata": {},
   "outputs": [
    {
     "data": {
      "text/plain": [
       "2500"
      ]
     },
     "execution_count": 1,
     "metadata": {},
     "output_type": "execute_result"
    }
   ],
   "source": [
    "input = []\n",
    "with open(\"input4.txt\") as file:\n",
    "    for line in file.readlines():\n",
    "        l = []\n",
    "        for ch in line.strip():\n",
    "            l.append(ch)\n",
    "        input.append(l)\n",
    "\n",
    "out = 0\n",
    "s = \"XMAS\"\n",
    "\n",
    "# horizontal\n",
    "for y in input:\n",
    "    for x in range(len(y)-3):\n",
    "        t = y[x:x+4]\n",
    "        t = ''.join(t)\n",
    "        if t == s:\n",
    "            out += 1\n",
    "        elif t[::-1] == s:\n",
    "            out += 1\n",
    "\n",
    "# vertical\n",
    "transposed = [list(row) for row in zip(*input)]\n",
    "for x in transposed:\n",
    "    for y in range(len(x)-3):\n",
    "        t = x[y:y+4]\n",
    "        t = ''.join(t)\n",
    "        if t == s:\n",
    "            out += 1\n",
    "        elif t[::-1] == s:\n",
    "            out += 1\n",
    "\n",
    "# diagonal right\n",
    "for y in range(len(input)-3):\n",
    "    for x in range(len(input[y])-3):\n",
    "        t = [input[y][x], input[y+1][x+1], input[y+2][x+2], input[y+3][x+3]]\n",
    "        t = ''.join(t)\n",
    "        if t == s:\n",
    "            out += 1\n",
    "        elif t[::-1] == s:\n",
    "            out += 1\n",
    "\n",
    "# diagonal left\n",
    "for y in range(3, len(input)):\n",
    "    for x in range(len(input[y])-3):\n",
    "        t = [input[y][x], input[y-1][x+1], input[y-2][x+2], input[y-3][x+3]]\n",
    "        t = ''.join(t)\n",
    "        if t == s:\n",
    "            out += 1\n",
    "        elif t[::-1] == s:\n",
    "            out += 1\n",
    "\n",
    "out"
   ]
  },
  {
   "cell_type": "markdown",
   "metadata": {},
   "source": [
    "Part 2"
   ]
  },
  {
   "cell_type": "code",
   "execution_count": 2,
   "metadata": {},
   "outputs": [
    {
     "data": {
      "text/plain": [
       "1933"
      ]
     },
     "execution_count": 2,
     "metadata": {},
     "output_type": "execute_result"
    }
   ],
   "source": [
    "s = 'MAS'\n",
    "out = 0\n",
    "\n",
    "for y in range(1, len(input)-1):\n",
    "    for x in range(1, len(input[y])-1):\n",
    "        t = [input[y-1][x-1], input[y][x], input[y+1][x+1]]\n",
    "        t = ''.join(t)\n",
    "        if (t == s) or (t[::-1] == s):\n",
    "            t = [input[y-1][x+1], input[y][x], input[y+1][x-1]]\n",
    "            t = ''.join(t)\n",
    "            if (t == s) or (t[::-1] == s):\n",
    "                out += 1\n",
    "out"
   ]
  },
  {
   "cell_type": "code",
   "execution_count": null,
   "metadata": {},
   "outputs": [],
   "source": []
  }
 ],
 "metadata": {
  "kernelspec": {
   "display_name": "Python 3",
   "language": "python",
   "name": "python3"
  },
  "language_info": {
   "codemirror_mode": {
    "name": "ipython",
    "version": 3
   },
   "file_extension": ".py",
   "mimetype": "text/x-python",
   "name": "python",
   "nbconvert_exporter": "python",
   "pygments_lexer": "ipython3",
   "version": "3.10.2"
  }
 },
 "nbformat": 4,
 "nbformat_minor": 2
}
