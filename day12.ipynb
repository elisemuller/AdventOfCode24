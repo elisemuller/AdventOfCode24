{
 "cells": [
  {
   "cell_type": "markdown",
   "metadata": {},
   "source": [
    "Part 1"
   ]
  },
  {
   "cell_type": "code",
   "execution_count": null,
   "metadata": {},
   "outputs": [],
   "source": [
    "input = []\n",
    "\n",
    "with open('input12.txt') as file:\n",
    "    for line in file.readlines():\n",
    "        input.append([ch for ch in line.strip()])\n",
    "\n",
    "y_max = len(input) - 1\n",
    "x_max = len(input[0]) - 1"
   ]
  },
  {
   "cell_type": "code",
   "execution_count": null,
   "metadata": {},
   "outputs": [],
   "source": [
    "def dfs(x, y, visited, ch, area, fence):\n",
    "    visited[y][x] = True\n",
    "    area += 1\n",
    "    fence += 4\n",
    "\n",
    "    for v in [[x-1, y], [x, y-1], [x+1, y], [x, y+1]]:\n",
    "        if v[0] >= 0 and v[1] >= 0 and v[0] <= y_max and v[1] <= x_max:\n",
    "            if (input[v[1]][v[0]] == ch):\n",
    "                fence -= 1\n",
    "                if not visited[v[1]][v[0]]:\n",
    "                    visited, area, fence = dfs(v[0], v[1], visited, ch, area, fence)\n",
    "\n",
    "    return visited, area, fence"
   ]
  },
  {
   "cell_type": "code",
   "execution_count": null,
   "metadata": {},
   "outputs": [],
   "source": [
    "out = 0\n",
    "\n",
    "visited = [[False for _ in range(len(input[0]))] for _ in range(len(input))]\n",
    "nodes = [[x,y] for y in range(y_max+1) for x in range(x_max+1)]\n",
    "\n",
    "for n in nodes:\n",
    "    x0, y0 = n[0], n[1]\n",
    "    if not visited[y0][x0]:\n",
    "        plant = input[y0][x0]\n",
    "        area = 0\n",
    "        fence = 0\n",
    "        visited, area, fence = dfs(x0, y0, visited, plant, area, fence)\n",
    "\n",
    "        out += area*fence\n",
    "\n",
    "out"
   ]
  },
  {
   "cell_type": "markdown",
   "metadata": {},
   "source": [
    "Part 2"
   ]
  },
  {
   "cell_type": "code",
   "execution_count": null,
   "metadata": {},
   "outputs": [],
   "source": [
    "input = []\n",
    "\n",
    "with open('input12.txt') as file:\n",
    "    for line in file.readlines():\n",
    "        input.append([ch for ch in line.strip()])\n",
    "\n",
    "y_max = len(input) - 1\n",
    "x_max = len(input[0]) - 1"
   ]
  },
  {
   "cell_type": "code",
   "execution_count": null,
   "metadata": {},
   "outputs": [],
   "source": [
    "def dfs(x, y, visited, ch, area, vertical, horizontal):\n",
    "    visited[y][x] = True\n",
    "    area += 1\n",
    "\n",
    "    for v in [[x-1, y], [x+1, y]]:\n",
    "        s = f\"{x}-{v[0]}\"\n",
    "        if v[0] >= 0 and v[0] <= x_max:\n",
    "            if (input[v[1]][v[0]] == ch):\n",
    "                if not visited[v[1]][v[0]]:\n",
    "                    visited, area, vertical, horizontal = dfs(v[0], v[1], visited, ch, area, vertical, horizontal)\n",
    "            else:\n",
    "                if s not in vertical:\n",
    "                    vertical[s] = []\n",
    "                vertical[s].append(v[1])\n",
    "        else:\n",
    "            if s not in vertical:\n",
    "                vertical[s] = []\n",
    "            vertical[s].append(v[1])\n",
    "\n",
    "\n",
    "    for v in [[x, y-1], [x, y+1]]:\n",
    "        s = f\"{y}-{v[1]}\"\n",
    "        if v[1] >= 0 and v[1] <= y_max:\n",
    "            if (input[v[1]][v[0]] == ch):\n",
    "                if not visited[v[1]][v[0]]:\n",
    "                    visited, area, vertical, horizontal = dfs(v[0], v[1], visited, ch, area, vertical, horizontal)\n",
    "            else:\n",
    "                if s not in horizontal:\n",
    "                    horizontal[s] = []\n",
    "                horizontal[s].append(v[0])\n",
    "        else:\n",
    "            if s not in horizontal:\n",
    "                horizontal[s] = []\n",
    "            horizontal[s].append(v[0])\n",
    "\n",
    "\n",
    "    return visited, area, vertical, horizontal"
   ]
  },
  {
   "cell_type": "code",
   "execution_count": null,
   "metadata": {},
   "outputs": [],
   "source": [
    "out = 0\n",
    "\n",
    "visited = [[False for _ in range(len(input[0]))] for _ in range(len(input))]\n",
    "nodes = [[x,y] for y in range(y_max+1) for x in range(x_max+1)]\n",
    "\n",
    "for n in nodes:\n",
    "    x0, y0 = n[0], n[1]\n",
    "    if not visited[y0][x0]:\n",
    "        plant = input[y0][x0]\n",
    "        area = 0\n",
    "        fences = 0\n",
    "        vertical = {}\n",
    "        horizontal = {}\n",
    "        visited, area, vertical, horizontal = dfs(x0, y0, visited, plant, area, vertical, horizontal)\n",
    "\n",
    "        for x, ys in vertical.items():\n",
    "            fences += 1\n",
    "            ys.sort()\n",
    "            for i in range(len(ys)-1):\n",
    "                if ys[i+1] - ys[i] != 1:\n",
    "                    fences += 1\n",
    "\n",
    "        for y, xs in horizontal.items():\n",
    "            fences += 1\n",
    "            xs.sort()\n",
    "            for i in range(len(xs)-1):\n",
    "                if xs[i+1] - xs[i] != 1:\n",
    "                    fences += 1\n",
    "\n",
    "        out += area*fences\n",
    "\n",
    "out"
   ]
  }
 ],
 "metadata": {
  "language_info": {
   "name": "python"
  }
 },
 "nbformat": 4,
 "nbformat_minor": 2
}
