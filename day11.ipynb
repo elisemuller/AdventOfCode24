{
 "cells": [
  {
   "cell_type": "markdown",
   "metadata": {},
   "source": [
    "Part 1"
   ]
  },
  {
   "cell_type": "code",
   "execution_count": null,
   "metadata": {},
   "outputs": [],
   "source": [
    "input = '2701 64945 0 9959979 93 781524 620 1'\n",
    "stones = input.split()\n",
    "\n",
    "for r in range(25):\n",
    "    new = []\n",
    "    for i in range(len(stones)):\n",
    "        if int(stones[i]) == 0:\n",
    "            new.append(str(1))\n",
    "        elif len(stones[i])%2 == 0:\n",
    "            m = len(stones[i])//2\n",
    "            s1, s2 = str(int(stones[i][:m])), str(int(stones[i][m:]))\n",
    "            new.extend([s1, s2])\n",
    "        else:\n",
    "            new.append(str(2024*int(stones[i])))\n",
    "\n",
    "    stones = new\n",
    "\n",
    "len(stones)"
   ]
  },
  {
   "cell_type": "markdown",
   "metadata": {},
   "source": [
    "Part 2"
   ]
  },
  {
   "cell_type": "markdown",
   "metadata": {},
   "source": [
    "input = '2701 64945 0 9959979 93 781524 620 1'\n",
    "stones = input.split()\n",
    "\n",
    "stonedict = {}\n",
    "for s in stones:\n",
    "    stonedict[s] = 1\n",
    "\n",
    "for r in range(75):\n",
    "    new_dict = {}\n",
    "    for stone in stonedict:\n",
    "        num = stonedict[stone]\n",
    "\n",
    "        if int(stone) == 0:\n",
    "            if '1' not in new_dict:\n",
    "                new_dict['1'] = 0\n",
    "            new_dict['1'] += num\n",
    "\n",
    "        elif len(stone)%2 == 0:\n",
    "            m = len(stone)//2\n",
    "            s1, s2 = str(int(stone[:m])), str(int(stone[m:]))\n",
    "            if s1 not in new_dict:\n",
    "                new_dict[s1] = 0\n",
    "            if s2 not in new_dict:\n",
    "                new_dict[s2] = 0\n",
    "            new_dict[s1] += num\n",
    "            new_dict[s2] += num\n",
    "            \n",
    "        else:\n",
    "            s = str(2024*int(stone))\n",
    "            if s not in new_dict:\n",
    "                new_dict[s] = 0\n",
    "            new_dict[s] += num\n",
    "    \n",
    "    stonedict = new_dict\n",
    "\n",
    "\n",
    "out = 0\n",
    "\n",
    "for key, value in stonedict.items():\n",
    "    out += value\n",
    "\n",
    "out"
   ]
  }
 ],
 "metadata": {
  "language_info": {
   "name": "python"
  }
 },
 "nbformat": 4,
 "nbformat_minor": 2
}
